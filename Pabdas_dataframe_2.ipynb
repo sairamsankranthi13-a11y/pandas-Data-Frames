{
  "nbformat": 4,
  "nbformat_minor": 0,
  "metadata": {
    "colab": {
      "provenance": [],
      "authorship_tag": "ABX9TyM8HyQKOop8KaW9P7O5etSo",
      "include_colab_link": true
    },
    "kernelspec": {
      "name": "python3",
      "display_name": "Python 3"
    },
    "language_info": {
      "name": "python"
    }
  },
  "cells": [
    {
      "cell_type": "markdown",
      "metadata": {
        "id": "view-in-github",
        "colab_type": "text"
      },
      "source": [
        "<a href=\"https://colab.research.google.com/github/sairamsankranthi13-a11y/pandas-Data-Frames/blob/main/Pabdas_dataframe_2.ipynb\" target=\"_parent\"><img src=\"https://colab.research.google.com/assets/colab-badge.svg\" alt=\"Open In Colab\"/></a>"
      ]
    },
    {
      "cell_type": "code",
      "execution_count": null,
      "metadata": {
        "colab": {
          "base_uri": "https://localhost:8080/",
          "height": 73
        },
        "id": "_OCBtVPrl98F",
        "outputId": "b9de92c8-5c9b-4fd9-da61-d3dc7c56382b"
      },
      "outputs": [
        {
          "output_type": "display_data",
          "data": {
            "text/plain": [
              "<IPython.core.display.HTML object>"
            ],
            "text/html": [
              "\n",
              "     <input type=\"file\" id=\"files-5db3599e-4b10-442c-9595-7ea967b4af46\" name=\"files[]\" multiple disabled\n",
              "        style=\"border:none\" />\n",
              "     <output id=\"result-5db3599e-4b10-442c-9595-7ea967b4af46\">\n",
              "      Upload widget is only available when the cell has been executed in the\n",
              "      current browser session. Please rerun this cell to enable.\n",
              "      </output>\n",
              "      <script>// Copyright 2017 Google LLC\n",
              "//\n",
              "// Licensed under the Apache License, Version 2.0 (the \"License\");\n",
              "// you may not use this file except in compliance with the License.\n",
              "// You may obtain a copy of the License at\n",
              "//\n",
              "//      http://www.apache.org/licenses/LICENSE-2.0\n",
              "//\n",
              "// Unless required by applicable law or agreed to in writing, software\n",
              "// distributed under the License is distributed on an \"AS IS\" BASIS,\n",
              "// WITHOUT WARRANTIES OR CONDITIONS OF ANY KIND, either express or implied.\n",
              "// See the License for the specific language governing permissions and\n",
              "// limitations under the License.\n",
              "\n",
              "/**\n",
              " * @fileoverview Helpers for google.colab Python module.\n",
              " */\n",
              "(function(scope) {\n",
              "function span(text, styleAttributes = {}) {\n",
              "  const element = document.createElement('span');\n",
              "  element.textContent = text;\n",
              "  for (const key of Object.keys(styleAttributes)) {\n",
              "    element.style[key] = styleAttributes[key];\n",
              "  }\n",
              "  return element;\n",
              "}\n",
              "\n",
              "// Max number of bytes which will be uploaded at a time.\n",
              "const MAX_PAYLOAD_SIZE = 100 * 1024;\n",
              "\n",
              "function _uploadFiles(inputId, outputId) {\n",
              "  const steps = uploadFilesStep(inputId, outputId);\n",
              "  const outputElement = document.getElementById(outputId);\n",
              "  // Cache steps on the outputElement to make it available for the next call\n",
              "  // to uploadFilesContinue from Python.\n",
              "  outputElement.steps = steps;\n",
              "\n",
              "  return _uploadFilesContinue(outputId);\n",
              "}\n",
              "\n",
              "// This is roughly an async generator (not supported in the browser yet),\n",
              "// where there are multiple asynchronous steps and the Python side is going\n",
              "// to poll for completion of each step.\n",
              "// This uses a Promise to block the python side on completion of each step,\n",
              "// then passes the result of the previous step as the input to the next step.\n",
              "function _uploadFilesContinue(outputId) {\n",
              "  const outputElement = document.getElementById(outputId);\n",
              "  const steps = outputElement.steps;\n",
              "\n",
              "  const next = steps.next(outputElement.lastPromiseValue);\n",
              "  return Promise.resolve(next.value.promise).then((value) => {\n",
              "    // Cache the last promise value to make it available to the next\n",
              "    // step of the generator.\n",
              "    outputElement.lastPromiseValue = value;\n",
              "    return next.value.response;\n",
              "  });\n",
              "}\n",
              "\n",
              "/**\n",
              " * Generator function which is called between each async step of the upload\n",
              " * process.\n",
              " * @param {string} inputId Element ID of the input file picker element.\n",
              " * @param {string} outputId Element ID of the output display.\n",
              " * @return {!Iterable<!Object>} Iterable of next steps.\n",
              " */\n",
              "function* uploadFilesStep(inputId, outputId) {\n",
              "  const inputElement = document.getElementById(inputId);\n",
              "  inputElement.disabled = false;\n",
              "\n",
              "  const outputElement = document.getElementById(outputId);\n",
              "  outputElement.innerHTML = '';\n",
              "\n",
              "  const pickedPromise = new Promise((resolve) => {\n",
              "    inputElement.addEventListener('change', (e) => {\n",
              "      resolve(e.target.files);\n",
              "    });\n",
              "  });\n",
              "\n",
              "  const cancel = document.createElement('button');\n",
              "  inputElement.parentElement.appendChild(cancel);\n",
              "  cancel.textContent = 'Cancel upload';\n",
              "  const cancelPromise = new Promise((resolve) => {\n",
              "    cancel.onclick = () => {\n",
              "      resolve(null);\n",
              "    };\n",
              "  });\n",
              "\n",
              "  // Wait for the user to pick the files.\n",
              "  const files = yield {\n",
              "    promise: Promise.race([pickedPromise, cancelPromise]),\n",
              "    response: {\n",
              "      action: 'starting',\n",
              "    }\n",
              "  };\n",
              "\n",
              "  cancel.remove();\n",
              "\n",
              "  // Disable the input element since further picks are not allowed.\n",
              "  inputElement.disabled = true;\n",
              "\n",
              "  if (!files) {\n",
              "    return {\n",
              "      response: {\n",
              "        action: 'complete',\n",
              "      }\n",
              "    };\n",
              "  }\n",
              "\n",
              "  for (const file of files) {\n",
              "    const li = document.createElement('li');\n",
              "    li.append(span(file.name, {fontWeight: 'bold'}));\n",
              "    li.append(span(\n",
              "        `(${file.type || 'n/a'}) - ${file.size} bytes, ` +\n",
              "        `last modified: ${\n",
              "            file.lastModifiedDate ? file.lastModifiedDate.toLocaleDateString() :\n",
              "                                    'n/a'} - `));\n",
              "    const percent = span('0% done');\n",
              "    li.appendChild(percent);\n",
              "\n",
              "    outputElement.appendChild(li);\n",
              "\n",
              "    const fileDataPromise = new Promise((resolve) => {\n",
              "      const reader = new FileReader();\n",
              "      reader.onload = (e) => {\n",
              "        resolve(e.target.result);\n",
              "      };\n",
              "      reader.readAsArrayBuffer(file);\n",
              "    });\n",
              "    // Wait for the data to be ready.\n",
              "    let fileData = yield {\n",
              "      promise: fileDataPromise,\n",
              "      response: {\n",
              "        action: 'continue',\n",
              "      }\n",
              "    };\n",
              "\n",
              "    // Use a chunked sending to avoid message size limits. See b/62115660.\n",
              "    let position = 0;\n",
              "    do {\n",
              "      const length = Math.min(fileData.byteLength - position, MAX_PAYLOAD_SIZE);\n",
              "      const chunk = new Uint8Array(fileData, position, length);\n",
              "      position += length;\n",
              "\n",
              "      const base64 = btoa(String.fromCharCode.apply(null, chunk));\n",
              "      yield {\n",
              "        response: {\n",
              "          action: 'append',\n",
              "          file: file.name,\n",
              "          data: base64,\n",
              "        },\n",
              "      };\n",
              "\n",
              "      let percentDone = fileData.byteLength === 0 ?\n",
              "          100 :\n",
              "          Math.round((position / fileData.byteLength) * 100);\n",
              "      percent.textContent = `${percentDone}% done`;\n",
              "\n",
              "    } while (position < fileData.byteLength);\n",
              "  }\n",
              "\n",
              "  // All done.\n",
              "  yield {\n",
              "    response: {\n",
              "      action: 'complete',\n",
              "    }\n",
              "  };\n",
              "}\n",
              "\n",
              "scope.google = scope.google || {};\n",
              "scope.google.colab = scope.google.colab || {};\n",
              "scope.google.colab._files = {\n",
              "  _uploadFiles,\n",
              "  _uploadFilesContinue,\n",
              "};\n",
              "})(self);\n",
              "</script> "
            ]
          },
          "metadata": {}
        },
        {
          "output_type": "stream",
          "name": "stdout",
          "text": [
            "Saving sales1.csv to sales1.csv\n"
          ]
        }
      ],
      "source": [
        "from google.colab import files\n",
        "uploaded = files.upload()"
      ]
    },
    {
      "cell_type": "code",
      "source": [
        "#accessing a single column from the dataframe\n",
        "import pandas as pd\n",
        "df=pd.read_csv(\"sales1.csv\")\n",
        "d=df[\"Quantity\"]\n",
        "print(d)"
      ],
      "metadata": {
        "colab": {
          "base_uri": "https://localhost:8080/"
        },
        "id": "YtVP_I9ZmXrY",
        "outputId": "7a2eb56a-4e01-477c-84fc-a8c3d01d91ef"
      },
      "execution_count": null,
      "outputs": [
        {
          "output_type": "stream",
          "name": "stdout",
          "text": [
            "0      2\n",
            "1      3\n",
            "2      1\n",
            "3      3\n",
            "4      2\n",
            "      ..\n",
            "595    1\n",
            "596    1\n",
            "597    1\n",
            "598    2\n",
            "599    1\n",
            "Name: Quantity, Length: 600, dtype: int64\n"
          ]
        }
      ]
    },
    {
      "cell_type": "code",
      "source": [
        "import pandas as pd\n",
        "df=pd.read_csv(\"sales1.csv\")\n",
        "print(df[\"Product\"])"
      ],
      "metadata": {
        "colab": {
          "base_uri": "https://localhost:8080/"
        },
        "id": "v3pCR334mdiE",
        "outputId": "7cf2bcb5-4dd7-49c7-fd3c-b65d6a003fce"
      },
      "execution_count": null,
      "outputs": [
        {
          "output_type": "stream",
          "name": "stdout",
          "text": [
            "0      34in Ultrawide Monitor\n",
            "1                 Samsung m10\n",
            "2                20in Monitor\n",
            "3                   iPhone 11\n",
            "4          Macbook Pro Laptop\n",
            "                ...          \n",
            "595        Macbook Pro Laptop\n",
            "596           ThinkPad Laptop\n",
            "597             Flatscreen TV\n",
            "598               Samsung m20\n",
            "599        LG Washing Machine\n",
            "Name: Product, Length: 600, dtype: object\n"
          ]
        }
      ]
    },
    {
      "cell_type": "code",
      "source": [
        "#reaaringing columns in daatframe\n",
        "import pandas as pd\n",
        "df=pd.read_csv(\"sales1.csv\")\n",
        "d=df[[\"Product\",\"Quantity\"]]\n",
        "print(d)"
      ],
      "metadata": {
        "colab": {
          "base_uri": "https://localhost:8080/"
        },
        "id": "-gyBX5h4mfTn",
        "outputId": "5047e796-7033-4b7e-add9-7f580ec2bf12"
      },
      "execution_count": null,
      "outputs": [
        {
          "output_type": "stream",
          "name": "stdout",
          "text": [
            "                    Product  Quantity\n",
            "0    34in Ultrawide Monitor         2\n",
            "1               Samsung m10         3\n",
            "2              20in Monitor         1\n",
            "3                 iPhone 11         3\n",
            "4        Macbook Pro Laptop         2\n",
            "..                      ...       ...\n",
            "595      Macbook Pro Laptop         1\n",
            "596         ThinkPad Laptop         1\n",
            "597           Flatscreen TV         1\n",
            "598             Samsung m20         2\n",
            "599      LG Washing Machine         1\n",
            "\n",
            "[600 rows x 2 columns]\n"
          ]
        }
      ]
    },
    {
      "cell_type": "code",
      "source": [
        "import pandas as pd\n",
        "df=pd.read_csv(\"sales1.csv\")\n",
        "print(df.head())\n",
        "print()\n",
        "print(df.columns)"
      ],
      "metadata": {
        "colab": {
          "base_uri": "https://localhost:8080/"
        },
        "id": "leiyOVxvml7F",
        "outputId": "7e40e555-2958-4a28-abd3-675212d8b377"
      },
      "execution_count": null,
      "outputs": [
        {
          "output_type": "stream",
          "name": "stdout",
          "text": [
            "   Order ID Customer Name                 Product  Quantity\n",
            "0    166837         Veeru  34in Ultrawide Monitor         2\n",
            "1    166838         Tarun             Samsung m10         3\n",
            "2    166839         Kedar            20in Monitor         1\n",
            "3    166840       Lavanya               iPhone 11         3\n",
            "4    166841          Venu      Macbook Pro Laptop         2\n",
            "\n",
            "Index(['Order ID', 'Customer Name', 'Product', 'Quantity'], dtype='object')\n"
          ]
        }
      ]
    },
    {
      "cell_type": "code",
      "source": [
        "#renaming single column in dataframe\n",
        "import pandas as pd\n",
        "df=pd.read_csv(\"sales1.csv\")\n",
        "d={\n",
        "    \"Product\":\"products\"\n",
        "}\n",
        "df2=df.rename(columns=d)\n",
        "print(df2)"
      ],
      "metadata": {
        "colab": {
          "base_uri": "https://localhost:8080/"
        },
        "id": "NKcwATTUmqMA",
        "outputId": "5b5f2b35-0c99-4eb0-fc3b-a216f339cfdd"
      },
      "execution_count": null,
      "outputs": [
        {
          "output_type": "stream",
          "name": "stdout",
          "text": [
            "     Order ID Customer Name                products  Quantity\n",
            "0      166837         Veeru  34in Ultrawide Monitor         2\n",
            "1      166838         Tarun             Samsung m10         3\n",
            "2      166839         Kedar            20in Monitor         1\n",
            "3      166840       Lavanya               iPhone 11         3\n",
            "4      166841          Venu      Macbook Pro Laptop         2\n",
            "..        ...           ...                     ...       ...\n",
            "595    167403        Balaji      Macbook Pro Laptop         1\n",
            "596    167404       Lavanya         ThinkPad Laptop         1\n",
            "597    167405          Venu           Flatscreen TV         1\n",
            "598    167406        Siddhu             Samsung m20         2\n",
            "599    167407         Tarun      LG Washing Machine         1\n",
            "\n",
            "[600 rows x 4 columns]\n"
          ]
        }
      ]
    },
    {
      "cell_type": "code",
      "source": [
        "#renaming multiple column in dataframe\n",
        "import pandas as pd\n",
        "df1=pd.read_csv(\"sales1.csv\")\n",
        "d={\n",
        "    \"order\":\"orders\",\n",
        "    \"Product\":\"products\",\n",
        "    \"Quantity\":\"quantities\"\n",
        "}\n",
        "df2=df1.rename(columns=d)\n",
        "print(df2)\n"
      ],
      "metadata": {
        "colab": {
          "base_uri": "https://localhost:8080/"
        },
        "id": "9PshSUaGnGGc",
        "outputId": "f550d982-8129-4692-9b71-3cbd500b774c"
      },
      "execution_count": null,
      "outputs": [
        {
          "output_type": "stream",
          "name": "stdout",
          "text": [
            "     Order ID Customer Name                products  quantities\n",
            "0      166837         Veeru  34in Ultrawide Monitor           2\n",
            "1      166838         Tarun             Samsung m10           3\n",
            "2      166839         Kedar            20in Monitor           1\n",
            "3      166840       Lavanya               iPhone 11           3\n",
            "4      166841          Venu      Macbook Pro Laptop           2\n",
            "..        ...           ...                     ...         ...\n",
            "595    167403        Balaji      Macbook Pro Laptop           1\n",
            "596    167404       Lavanya         ThinkPad Laptop           1\n",
            "597    167405          Venu           Flatscreen TV           1\n",
            "598    167406        Siddhu             Samsung m20           2\n",
            "599    167407         Tarun      LG Washing Machine           1\n",
            "\n",
            "[600 rows x 4 columns]\n"
          ]
        }
      ]
    },
    {
      "cell_type": "code",
      "source": [
        "#renaming(p) method-chnaging index in dataframe\n",
        "import pandas as pd\n",
        "df=pd.read_csv(\"sales1.csv\")\n",
        "d={\n",
        "    \"order_id\":[1,2,3],\n",
        "    \"customer_name\":[\"sai\",\"ram\",\"prasad\"],\n",
        "    \"product\":[\"laptop\",\"mobile\",\"tv\"]\n",
        "}\n",
        "df1=pd.DataFrame(d)\n",
        "print(df1)"
      ],
      "metadata": {
        "colab": {
          "base_uri": "https://localhost:8080/"
        },
        "id": "wdulXVG4nLcv",
        "outputId": "223a2ef8-44fd-4066-9d9c-c74498bd463c"
      },
      "execution_count": null,
      "outputs": [
        {
          "output_type": "stream",
          "name": "stdout",
          "text": [
            "   order_id customer_name product\n",
            "0         1           sai  laptop\n",
            "1         2           ram  mobile\n",
            "2         3        prasad      tv\n"
          ]
        }
      ]
    },
    {
      "cell_type": "code",
      "source": [
        "import pandas as pd\n",
        "df=pd.read_csv(\"sales1.csv\")\n",
        "d={\n",
        "  \"order_id\":[0,1,2],\n",
        "  \"customer_name\":[\"prasad\",\"daniel\",\"jeswanth\"],\n",
        "  \"product\":[\"laptop\",\"mobile\",\"tv\"]\n",
        "}\n",
        "i={0:33,1:43,2:56}\n",
        "df=pd.DataFrame(d)\n",
        "df2=df.rename(index=i)\n",
        "print(df2)"
      ],
      "metadata": {
        "colab": {
          "base_uri": "https://localhost:8080/"
        },
        "id": "dzbCLqI5nSTZ",
        "outputId": "50b5b1b8-88b9-4669-c011-6e737314182d"
      },
      "execution_count": null,
      "outputs": [
        {
          "output_type": "stream",
          "name": "stdout",
          "text": [
            "    order_id customer_name product\n",
            "33         0        prasad  laptop\n",
            "43         1        daniel  mobile\n",
            "56         2      jeswanth      tv\n"
          ]
        }
      ]
    },
    {
      "cell_type": "code",
      "source": [
        "#columns attribute--changing multiple column names\n",
        "import pandas as pd\n",
        "df1=pd.read_csv(\"sales1.csv\")\n",
        "print(df1.head())\n",
        "\n",
        "df1.columns=[\n",
        "    \"order_id\",\n",
        "    \"customer_name\",\n",
        "    \"product\",\n",
        "    \"quantity\"\n",
        "]\n",
        "print()\n",
        "print(df1.head())"
      ],
      "metadata": {
        "colab": {
          "base_uri": "https://localhost:8080/"
        },
        "id": "YrQFTIk4njq4",
        "outputId": "0a825c64-72a1-4635-a853-6117be0ba89e"
      },
      "execution_count": null,
      "outputs": [
        {
          "output_type": "stream",
          "name": "stdout",
          "text": [
            "   Order ID Customer Name                 Product  Quantity\n",
            "0    166837         Veeru  34in Ultrawide Monitor         2\n",
            "1    166838         Tarun             Samsung m10         3\n",
            "2    166839         Kedar            20in Monitor         1\n",
            "3    166840       Lavanya               iPhone 11         3\n",
            "4    166841          Venu      Macbook Pro Laptop         2\n",
            "\n",
            "   order_id customer_name                 product  quantity\n",
            "0    166837         Veeru  34in Ultrawide Monitor         2\n",
            "1    166838         Tarun             Samsung m10         3\n",
            "2    166839         Kedar            20in Monitor         1\n",
            "3    166840       Lavanya               iPhone 11         3\n",
            "4    166841          Venu      Macbook Pro Laptop         2\n"
          ]
        }
      ]
    },
    {
      "cell_type": "code",
      "source": [
        "#rename(p)method- changing index in dataframe\n",
        "import pandas as pd\n",
        "d={\n",
        "    \" order_id\":[1,2,3],\n",
        "    \"customer_name\":[\"sai\",\"ram\",\"prasad\"],\n",
        "    \"product\":[\"laptop\",\"mobile\",\"tv\"]\n",
        "}\n",
        "df=pd.DataFrame(d)\n",
        "print(df)\n"
      ],
      "metadata": {
        "colab": {
          "base_uri": "https://localhost:8080/"
        },
        "id": "qkeKLVKPoHjP",
        "outputId": "991c6885-afdb-46e5-b561-2a3a55611d85"
      },
      "execution_count": null,
      "outputs": [
        {
          "output_type": "stream",
          "name": "stdout",
          "text": [
            "    order_id customer_name product\n",
            "0          1           sai  laptop\n",
            "1          2           ram  mobile\n",
            "2          3        prasad      tv\n"
          ]
        }
      ]
    },
    {
      "cell_type": "code",
      "source": [
        "import pandas as pd\n",
        "d={\n",
        "    \"order_id\":[1,2,3],\n",
        "    \"customer_name\":[\"sai\",\"ram\",\"prasad\"],\n",
        "    \"product\":[\"laptop\",\"mobile\",\"tv\"]\n",
        "\n",
        "}\n",
        "\n",
        "i={0:23,1:33,2:44}\n",
        "df1:pd.DataFrame(d)\n",
        "df2=df1.rename(index=i)\n",
        "print(df1)\n",
        "print()\n",
        "print(df2)"
      ],
      "metadata": {
        "colab": {
          "base_uri": "https://localhost:8080/"
        },
        "id": "bsi1BbkRofU3",
        "outputId": "f18fcb56-7600-4adc-a56c-c05c27c80faa"
      },
      "execution_count": null,
      "outputs": [
        {
          "output_type": "stream",
          "name": "stdout",
          "text": [
            "     order_id customer_name                 product  quantity\n",
            "0      166837         Veeru  34in Ultrawide Monitor         2\n",
            "1      166838         Tarun             Samsung m10         3\n",
            "2      166839         Kedar            20in Monitor         1\n",
            "3      166840       Lavanya               iPhone 11         3\n",
            "4      166841          Venu      Macbook Pro Laptop         2\n",
            "..        ...           ...                     ...       ...\n",
            "595    167403        Balaji      Macbook Pro Laptop         1\n",
            "596    167404       Lavanya         ThinkPad Laptop         1\n",
            "597    167405          Venu           Flatscreen TV         1\n",
            "598    167406        Siddhu             Samsung m20         2\n",
            "599    167407         Tarun      LG Washing Machine         1\n",
            "\n",
            "[600 rows x 4 columns]\n",
            "\n",
            "     order_id customer_name                 product  quantity\n",
            "23     166837         Veeru  34in Ultrawide Monitor         2\n",
            "33     166838         Tarun             Samsung m10         3\n",
            "44     166839         Kedar            20in Monitor         1\n",
            "3      166840       Lavanya               iPhone 11         3\n",
            "4      166841          Venu      Macbook Pro Laptop         2\n",
            "..        ...           ...                     ...       ...\n",
            "595    167403        Balaji      Macbook Pro Laptop         1\n",
            "596    167404       Lavanya         ThinkPad Laptop         1\n",
            "597    167405          Venu           Flatscreen TV         1\n",
            "598    167406        Siddhu             Samsung m20         2\n",
            "599    167407         Tarun      LG Washing Machine         1\n",
            "\n",
            "[600 rows x 4 columns]\n"
          ]
        }
      ]
    },
    {
      "cell_type": "code",
      "source": [
        "import pandas as pd\n",
        "d={\n",
        "    \"order_id\":[1,2,3],\n",
        "    \"customer_name\":[\"sai\",\"ram\",\"prasad\"],\n",
        "    \"product\":[\"laptop\",\"mobile\",\"tv\"]\n",
        "\n",
        "}\n",
        "df1=pd.DataFrame(d)\n",
        "print(df1)\n",
        "df1.index=[23,33,44]\n",
        "print()\n",
        "print(df1)"
      ],
      "metadata": {
        "colab": {
          "base_uri": "https://localhost:8080/"
        },
        "id": "SzxrWegZqXaL",
        "outputId": "0d1966b3-62c8-4bff-f047-5baeb323de41"
      },
      "execution_count": null,
      "outputs": [
        {
          "output_type": "stream",
          "name": "stdout",
          "text": [
            "   order_id customer_name product\n",
            "0         1           sai  laptop\n",
            "1         2           ram  mobile\n",
            "2         3        prasad      tv\n",
            "\n",
            "    order_id customer_name product\n",
            "23         1           sai  laptop\n",
            "33         2           ram  mobile\n",
            "44         3        prasad      tv\n"
          ]
        }
      ]
    },
    {
      "cell_type": "code",
      "source": [
        "#lower case to upper case\n",
        "import pandas as pd\n",
        "df1=pd.read_csv(\"sales1.csv\")\n",
        "\n",
        "print(df1.head())\n",
        "\n",
        "df1.columns=df1.columns.str.upper()\n",
        "print()\n",
        "print(df1.head())\n"
      ],
      "metadata": {
        "colab": {
          "base_uri": "https://localhost:8080/"
        },
        "id": "NPuIfLQKspFZ",
        "outputId": "c96a9756-10ac-4233-ddec-4fab0d5db7d6"
      },
      "execution_count": null,
      "outputs": [
        {
          "output_type": "stream",
          "name": "stdout",
          "text": [
            "   Order ID Customer Name                 Product  Quantity\n",
            "0    166837         Veeru  34in Ultrawide Monitor         2\n",
            "1    166838         Tarun             Samsung m10         3\n",
            "2    166839         Kedar            20in Monitor         1\n",
            "3    166840       Lavanya               iPhone 11         3\n",
            "4    166841          Venu      Macbook Pro Laptop         2\n",
            "\n",
            "   ORDER ID CUSTOMER NAME                 PRODUCT  QUANTITY\n",
            "0    166837         Veeru  34in Ultrawide Monitor         2\n",
            "1    166838         Tarun             Samsung m10         3\n",
            "2    166839         Kedar            20in Monitor         1\n",
            "3    166840       Lavanya               iPhone 11         3\n",
            "4    166841          Venu      Macbook Pro Laptop         2\n"
          ]
        }
      ]
    },
    {
      "cell_type": "code",
      "source": [
        "#pandas inplace parameter\n",
        "#without withouinplace parameter\n",
        "import pandas as pd\n",
        "df1=pd.read_csv(\"sales1.csv\")\n",
        "d={\"order_id\":\"ord id\",\"product_id\":\"prod id\",\"customer_name\":\"cust name \",\"quantity\":\"quant\"}\n",
        "print(df1.head())\n",
        "df1.rename(columns=d)\n",
        "print()\n",
        "print(df1.head())"
      ],
      "metadata": {
        "colab": {
          "base_uri": "https://localhost:8080/"
        },
        "id": "oSOReGtNKJ3u",
        "outputId": "4cd6c94c-4945-452f-b368-44115308ce81"
      },
      "execution_count": null,
      "outputs": [
        {
          "output_type": "stream",
          "name": "stdout",
          "text": [
            "   Order ID Customer Name                 Product  Quantity\n",
            "0    166837         Veeru  34in Ultrawide Monitor         2\n",
            "1    166838         Tarun             Samsung m10         3\n",
            "2    166839         Kedar            20in Monitor         1\n",
            "3    166840       Lavanya               iPhone 11         3\n",
            "4    166841          Venu      Macbook Pro Laptop         2\n",
            "\n",
            "   Order ID Customer Name                 Product  Quantity\n",
            "0    166837         Veeru  34in Ultrawide Monitor         2\n",
            "1    166838         Tarun             Samsung m10         3\n",
            "2    166839         Kedar            20in Monitor         1\n",
            "3    166840       Lavanya               iPhone 11         3\n",
            "4    166841          Venu      Macbook Pro Laptop         2\n"
          ]
        }
      ]
    },
    {
      "cell_type": "code",
      "source": [
        "#pandas inplace parameter\n",
        "#without inplace parameter\n",
        "import pandas as pd\n",
        "df1=pd.read_csv(\"sales1.csv\")\n",
        "d={\"order_id\":\"ord id\",\"product_id\":\"prod id\",\"customer_name\":\"cust name \",\"quantity\":\"quant\"}\n",
        "print(df1.head())\n",
        "df1.rename(columns=d,inplace=True)\n",
        "print()\n",
        "print(df1.head())"
      ],
      "metadata": {
        "colab": {
          "base_uri": "https://localhost:8080/"
        },
        "id": "lM_AYM7fNK2E",
        "outputId": "08b46ced-015a-498a-93af-8ccd1d5cd72f"
      },
      "execution_count": null,
      "outputs": [
        {
          "output_type": "stream",
          "name": "stdout",
          "text": [
            "   Order ID Customer Name                 Product  Quantity\n",
            "0    166837         Veeru  34in Ultrawide Monitor         2\n",
            "1    166838         Tarun             Samsung m10         3\n",
            "2    166839         Kedar            20in Monitor         1\n",
            "3    166840       Lavanya               iPhone 11         3\n",
            "4    166841          Venu      Macbook Pro Laptop         2\n",
            "\n",
            "   Order ID Customer Name                 Product  Quantity\n",
            "0    166837         Veeru  34in Ultrawide Monitor         2\n",
            "1    166838         Tarun             Samsung m10         3\n",
            "2    166839         Kedar            20in Monitor         1\n",
            "3    166840       Lavanya               iPhone 11         3\n",
            "4    166841          Venu      Macbook Pro Laptop         2\n"
          ]
        }
      ]
    },
    {
      "cell_type": "code",
      "source": [
        "# pandas inplace parameter\n",
        "# without inplace parameter\n",
        "\n",
        "import pandas as pd\n",
        "\n",
        "# Read CSV file\n",
        "df1 = pd.read_csv(\"sales1.csv\")\n",
        "\n",
        "# Dictionary for renaming columns\n",
        "d = {\"order_id\": \"ord id\", \"product_id\": \"prod id\", \"customer_name\": \"cust name\", \"quantity\": \"quant\"}\n",
        "\n",
        "print(\"Before renaming:\")\n",
        "print(df1.head())\n",
        "\n",
        "# Rename columns (note: True must be capitalized)\n",
        "df1.rename(columns=d, inplace=True)\n",
        "\n",
        "print(\"\\nAfter renaming:\")\n",
        "print(df1.head())\n"
      ],
      "metadata": {
        "colab": {
          "base_uri": "https://localhost:8080/"
        },
        "id": "4YtucuCF_JyT",
        "outputId": "be2da8b4-a78f-49c5-a29a-8051a59941ee"
      },
      "execution_count": null,
      "outputs": [
        {
          "output_type": "stream",
          "name": "stdout",
          "text": [
            "Before renaming:\n",
            "   Order ID Customer Name                 Product  Quantity\n",
            "0    166837         Veeru  34in Ultrawide Monitor         2\n",
            "1    166838         Tarun             Samsung m10         3\n",
            "2    166839         Kedar            20in Monitor         1\n",
            "3    166840       Lavanya               iPhone 11         3\n",
            "4    166841          Venu      Macbook Pro Laptop         2\n",
            "\n",
            "After renaming:\n",
            "   Order ID Customer Name                 Product  Quantity\n",
            "0    166837         Veeru  34in Ultrawide Monitor         2\n",
            "1    166838         Tarun             Samsung m10         3\n",
            "2    166839         Kedar            20in Monitor         1\n",
            "3    166840       Lavanya               iPhone 11         3\n",
            "4    166841          Venu      Macbook Pro Laptop         2\n"
          ]
        }
      ]
    },
    {
      "cell_type": "code",
      "source": [
        "# pandas inplace parameter\n",
        "# without inplace parameter\n",
        "\n",
        "import pandas as pd\n",
        "\n",
        "# Read CSV file\n",
        "df1 = pd.read_csv(\"sales1.csv\")\n",
        "\n",
        "# Dictionary for renaming columns\n",
        "d = {\"order_id\": \"ord id\", \"product\": \"prod id\", \"customer_name\": \"cust name\", \"quantity\": \"quant\"}\n",
        "\n",
        "# Display original column names\n",
        "print(\"Before renaming:\")\n",
        "print(df1.head())\n",
        "\n",
        "# Rename columns (note: True must be capitalized)\n",
        "df1.rename(columns=d, inplace=True)\n",
        "\n",
        "print(\"\\nAfter renaming:\")\n",
        "print(df1.head())\n"
      ],
      "metadata": {
        "id": "ERMiZiOz_eXd",
        "outputId": "b8235707-4d7b-4443-c256-2132502b3cac",
        "colab": {
          "base_uri": "https://localhost:8080/"
        }
      },
      "execution_count": null,
      "outputs": [
        {
          "output_type": "stream",
          "name": "stdout",
          "text": [
            "Before renaming:\n",
            "   Order ID Customer Name                 Product  Quantity\n",
            "0    166837         Veeru  34in Ultrawide Monitor         2\n",
            "1    166838         Tarun             Samsung m10         3\n",
            "2    166839         Kedar            20in Monitor         1\n",
            "3    166840       Lavanya               iPhone 11         3\n",
            "4    166841          Venu      Macbook Pro Laptop         2\n",
            "\n",
            "After renaming:\n",
            "   Order ID Customer Name                 Product  Quantity\n",
            "0    166837         Veeru  34in Ultrawide Monitor         2\n",
            "1    166838         Tarun             Samsung m10         3\n",
            "2    166839         Kedar            20in Monitor         1\n",
            "3    166840       Lavanya               iPhone 11         3\n",
            "4    166841          Venu      Macbook Pro Laptop         2\n"
          ]
        }
      ]
    }
  ]
}